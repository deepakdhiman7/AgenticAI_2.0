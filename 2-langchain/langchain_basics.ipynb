{
 "cells": [
  {
   "cell_type": "markdown",
   "id": "4342bb47",
   "metadata": {},
   "source": [
    "## Langchain Basics"
   ]
  },
  {
   "cell_type": "code",
   "execution_count": 1,
   "id": "14820901",
   "metadata": {},
   "outputs": [
    {
     "data": {
      "text/plain": [
       "True"
      ]
     },
     "execution_count": 1,
     "metadata": {},
     "output_type": "execute_result"
    }
   ],
   "source": [
    "import os\n",
    "from dotenv import load_dotenv\n",
    "load_dotenv()"
   ]
  },
  {
   "cell_type": "code",
   "execution_count": 2,
   "id": "21ba987d",
   "metadata": {},
   "outputs": [],
   "source": [
    "# print(os.getenv(\"OPENAI_API_KEY\"))\n",
    "os.environ[\"OPENAI_API_KEY\"]=os.getenv(\"OPENAI_API_KEY\")\n",
    "os.environ[\"GROQ_API_KEY\"]=os.getenv(\"GROQ_API_KEY\")\n",
    "os.environ[\"LANGCHAIN_PROJECT\"]=os.getenv(\"LANGCHAIN_PROJECT\")\n",
    "os.environ[\"LANGCHAIN_API_KEY\"]=os.getenv(\"LANGCHAIN_API_KEY\")\n",
    "os.environ[\"LANGCHAIN_TRACING_V2\"]=\"true\""
   ]
  },
  {
   "cell_type": "code",
   "execution_count": 32,
   "id": "8ec6a5e5",
   "metadata": {},
   "outputs": [],
   "source": [
    "from langchain_openai import ChatOpenAI\n",
    "from langchain_groq import ChatGroq\n",
    "from pydantic import BaseModel, Field"
   ]
  },
  {
   "cell_type": "code",
   "execution_count": 4,
   "id": "4378dbd8",
   "metadata": {},
   "outputs": [],
   "source": [
    "llm = ChatOpenAI(model=\"o1-mini\", temperature=0.10, max_completion_tokens=1000)\n",
    "# print(llm)"
   ]
  },
  {
   "cell_type": "code",
   "execution_count": 5,
   "id": "2ad263cc",
   "metadata": {},
   "outputs": [],
   "source": [
    "# result =  llm.invoke(\"what is cricket?\")"
   ]
  },
  {
   "cell_type": "code",
   "execution_count": 6,
   "id": "c9a229e0",
   "metadata": {},
   "outputs": [],
   "source": [
    "# print(result.content)"
   ]
  },
  {
   "cell_type": "code",
   "execution_count": 8,
   "id": "1ed29db8",
   "metadata": {},
   "outputs": [],
   "source": [
    "llm_1 = ChatGroq(model=\"qwen-qwq-32b\")\n",
    "result = llm_1.invoke(\"what is cricket?\")"
   ]
  },
  {
   "cell_type": "code",
   "execution_count": 9,
   "id": "20c4198d",
   "metadata": {},
   "outputs": [
    {
     "name": "stdout",
     "output_type": "stream",
     "text": [
      "\n",
      "<think>\n",
      "Okay, the user is asking \"what is cricket?\" so I need to explain what cricket is. Let's start with the basics. Cricket is a sport, right? Played with a bat and ball, similar to baseball maybe, but different in some key ways. I should mention the basic equipment: bat, ball, wickets. \n",
      "\n",
      "First, I should outline the objective of the game. The main goal for the batting team is to score runs, which can be runs scored by hitting the ball and running between the wickets, or by boundaries like fours or sixes. The fielding team tries to dismiss the batsmen by getting them out, like in baseball, but there are different methods like bowling, catching, run-outs, etc. \n",
      "\n",
      "I should explain the structure of a match. There are different formats: Test matches, which are the longer version, up to five days; One Day Internationals (ODIs) with 50 overs per side; and T20s, which are 20 overs per side. That's important because the format affects how the game is played. \n",
      "\n",
      "Next, the key roles: the captain, the batsmen, the bowler, the fielders, the wicket-keeper. Maybe a brief description of each. Also, the positions on the field: the pitch in the center, wickets at each end. \n",
      "\n",
      "I need to mention how a team is out. Each team has 11 players, and once ten are out, the innings is over. The fielding team takes turns to bowl, and they can choose how many overs each bowler does, but there are limits. \n",
      "\n",
      "Scoring: runs can be singles, doubles, etc., and boundaries: a four is hitting the ball to the boundary, a six is over the boundary on the fly. Also, extras like no-balls, wides, byes, and leg byes. \n",
      "\n",
      "Dismissals: the ways a batsman can be out. Common ones are bowled, caught, run out, stumped, and maybe others like LBW (leg before wicket). I should explain LBW briefly because it's a key rule. \n",
      "\n",
      "History might be a good addition. Cricket's origins in England, popular in the British Empire, now big in countries like India, Australia, England, the West Indies, Pakistan, South Africa, etc. \n",
      "\n",
      "Global competitions: ICC events like the Cricket World Cup, T20 World Cup, and the Ashes between England and Australia. Also, domestic leagues like the IPL in India. \n",
      "\n",
      "Maybe mention some famous players, but the user didn't ask for that, so maybe not necessary. \n",
      "\n",
      "Wait, need to make sure I don't mix up with baseball. For example, in cricket, the ball is bowled, not thrown; it's rolled along the ground with a straight arm. The wicket is three stumps with bails on top. \n",
      "\n",
      "Also, the role of the umpires and the third umpire for decisions like LBW or run-outs via video replay. \n",
      "\n",
      "I should structure this in a clear way: start with a simple definition, then break down the components. Maybe use bullet points or sections, but since the user wants the answer in a paragraph, I'll need to be concise but comprehensive. \n",
      "\n",
      "Check if there's anything I'm missing. Equipment: pads, gloves, helmet for batsmen, different types of pitches (like green top vs. dry), but maybe too detailed. \n",
      "\n",
      "Also, the concept of an innings, over (usually six balls), and the different roles of a batsman: opening batsmen, middle order, finishers. \n",
      "\n",
      "Wait, maybe the user just wants a basic overview. Let me not overcomplicate. Focus on the main elements: the objective, how the game is played, key terms, and the different formats. \n",
      "\n",
      "I should also mention that it's a team sport, two teams, each takes a turn to bat and field. The team batting sets a target for the opposing team to chase, or the team batting second tries to surpass the first team's score. \n",
      "\n",
      "Make sure to clarify the difference between batting and fielding. The fielding team's bowler bowls the ball to the batsman, who tries to hit it to score runs. \n",
      "\n",
      "Let me check if there's a standard way to explain cricket. Maybe start with the objective, then structure of the game, key rules, and then the different formats. \n",
      "\n",
      "Wait, maybe start with a simple definition: Cricket is a bat-and-ball game played between two teams of 11 on a circular or oval field. The goal is to score runs and dismiss the opposition. \n",
      "\n",
      "Then go into more detail. Yeah, that sounds better. Need to keep it clear and not too jargon-heavy. Avoid too many terms but explain necessary ones. \n",
      "\n",
      "I think that's a solid structure. Let me put it all together now.\n",
      "</think>\n",
      "\n",
      "Cricket is a bat-and-ball sport played between two teams of 11 players each on a circular or oval field. The objective is to score runs and dismiss the opposing team. Here's a structured overview:\n",
      "\n",
      "### **Core Elements**\n",
      "- **Objective**: The batting team scores runs by hitting the ball with a bat and running between two sets of three stumps (called *wickets*) placed 22 yards apart. The fielding team aims to dismiss all batsmen (get them \"out\") to limit the opponent's score.\n",
      "\n",
      "---\n",
      "\n",
      "### **Key Components**\n",
      "1. **Equipment**:\n",
      "   - **Ball**: A hard leather-covered ball.\n",
      "   - **Bat**: Flat-faced willowwood bat.\n",
      "   - **Wickets**: Three vertical stumps with two bails on top at each end of the pitch.\n",
      "\n",
      "2. **Scoring Runs**:\n",
      "   - **Runs**: Batsmen score by running between wickets or by hitting the ball to the boundary (4 runs for the edge, 6 for hitting over it without bouncing).\n",
      "   - **Extras**: Include no-balls (illegal deliveries), wides (out-of-reach balls), and byes/leg byes (runs taken without the ball being hit).\n",
      "\n",
      "3. **Dismissals (Outs)**:\n",
      "   - **Bowled**: The ball hits the wicket.\n",
      "   - **Caught**: The ball is hit and caught without bouncing.\n",
      "   - **Run Out**: Batsman is dismissed while running.\n",
      "   - **Stumped**: Wicketkeeper breaks the wicket while the batsman is out of their crease.\n",
      "   - **LBW (Leg Before Wicket)**: The ball hits the batsman's leg and would likely hit the stumps.\n",
      "   - **Hit Wicket**: Batsman dislodges the bails while playing a shot.\n",
      "\n",
      "---\n",
      "\n",
      "### **Game Structure**\n",
      "- **Innings**: Each team takes turns batting and fielding. The batting team’s innings ends when 10 players are out or a set number of overs is reached.\n",
      "- **Overs**: Each bowler delivers groups of 6 balls (an *over*). Different formats have varying lengths:\n",
      "   - **Test Matches**: Traditional 5-day format, no set overs.\n",
      "   - **ODIs (One Day Internationals)**: 50 overs per side.\n",
      "   - **T20 (Twenty20)**: 20 overs per side, fastest-paced.\n",
      "\n",
      "---\n",
      "\n",
      "### **Fielding Roles**\n",
      "- **Bowlers**: Throw the ball toward the batsman (with a straight-arm action; no throwing).\n",
      "- **Fielders**: Defend hits to prevent runs or catch the ball.\n",
      "- **Wicketkeeper**: Crouches behind the stumps to catch misses or stumps.\n",
      "\n",
      "---\n",
      "\n",
      "### **Winning the Match**\n",
      "- The team with the most runs wins. In a two-innings match (Test cricket), the team with the higher total after both teams bat twice wins.\n",
      "\n",
      "---\n",
      "\n",
      "### **Global Presence**\n",
      "- **Origin**: Began in England; now popular in Commonwealth countries (India, Australia, Pakistan, the West Indies, etc.).\n",
      "- **Major Events**:\n",
      "  - **Cricket World Cup** (ODIs).\n",
      "  - **ICC T20 World Cup** (T20 format).\n",
      "  - **The Ashes** (England vs. Australia Test series).\n",
      "\n",
      "---\n",
      "\n",
      "### **Unique Aspects**\n",
      "- Strategy involves choosing which bowlers to use, field placements, and batting tactics.\n",
      "- Matches can last from 3 hours (T20) to 5 days (Test), offering varied pacing and depth.\n",
      "\n",
      "Cricket combines athleticism, strategy, and tradition, making it a beloved sport worldwide.\n"
     ]
    }
   ],
   "source": [
    "print(result.content)"
   ]
  },
  {
   "cell_type": "markdown",
   "id": "7db10cc6",
   "metadata": {},
   "source": [
    "### ChatPrompt"
   ]
  },
  {
   "cell_type": "code",
   "execution_count": 24,
   "id": "0001bdc0",
   "metadata": {},
   "outputs": [],
   "source": [
    "from langchain_core.prompts import ChatPromptTemplate"
   ]
  },
  {
   "cell_type": "code",
   "execution_count": 25,
   "id": "13574a9c",
   "metadata": {},
   "outputs": [],
   "source": [
    "prompt = ChatPromptTemplate(\n",
    "    [\n",
    "        (\"system\", \"You are a helpful assistant. Answer the user question.\"),\n",
    "        (\"human\", \"{query}\")\n",
    "    ]\n",
    ")\n",
    "\n",
    "# prompt"
   ]
  },
  {
   "cell_type": "code",
   "execution_count": 4,
   "id": "fc5b6af2",
   "metadata": {},
   "outputs": [],
   "source": [
    "llm_2 = ChatGroq(model=\"gemma2-9b-it\", max_tokens=1000)\n",
    "# result = llm_2.invoke(\"what is cricket?\")"
   ]
  },
  {
   "cell_type": "code",
   "execution_count": 13,
   "id": "023fb124",
   "metadata": {},
   "outputs": [
    {
     "data": {
      "text/plain": [
       "ChatPromptTemplate(input_variables=['query'], input_types={}, partial_variables={}, messages=[SystemMessagePromptTemplate(prompt=PromptTemplate(input_variables=[], input_types={}, partial_variables={}, template='You are a helpful assistant. Answer the user question.'), additional_kwargs={}), HumanMessagePromptTemplate(prompt=PromptTemplate(input_variables=['query'], input_types={}, partial_variables={}, template='{query}'), additional_kwargs={})])\n",
       "| ChatGroq(client=<groq.resources.chat.completions.Completions object at 0x00000263F1D9C8D0>, async_client=<groq.resources.chat.completions.AsyncCompletions object at 0x00000263F1D9D450>, model_name='gemma2-9b-it', model_kwargs={}, groq_api_key=SecretStr('**********'))"
      ]
     },
     "execution_count": 13,
     "metadata": {},
     "output_type": "execute_result"
    }
   ],
   "source": [
    "chain = prompt|llm_2\n",
    "chain"
   ]
  },
  {
   "cell_type": "code",
   "execution_count": 14,
   "id": "ad880995",
   "metadata": {},
   "outputs": [],
   "source": [
    "result=chain.invoke({\"query\":\"what is cricket?\"})"
   ]
  },
  {
   "cell_type": "code",
   "execution_count": 15,
   "id": "8968bd52",
   "metadata": {},
   "outputs": [
    {
     "name": "stdout",
     "output_type": "stream",
     "text": [
      "Cricket is a bat-and-ball game played between two teams of eleven players each on a field with a central pitch. \n",
      "\n",
      "Here's a simplified explanation:\n",
      "\n",
      "**The Basics**\n",
      "\n",
      "* **Objective:**  The team batting tries to score runs by hitting the ball and running between two sets of wickets (wooden posts). The team fielding tries to prevent runs and get the batters \"out\".\n",
      "* **Gameplay:** One team bats while the other fields.  A batter faces a bowler who throws the ball towards the wickets.  If the batter hits the ball, they run to the other end of the pitch, trying to score runs.\n",
      "* **Getting Out:** There are various ways a batter can get out, such as being bowled (the ball hits the wickets), caught (a fielder catches the ball before it bounces), or leg before wicket (LBW - the ball hits the batter's leg and would have hit the wicket).\n",
      "* **Innings:** Each team takes turns batting, this is called an innings.  The team with the most runs at the end of both innings wins.\n",
      "\n",
      "**Types of Cricket**\n",
      "\n",
      "* **Test Cricket:**  The longest form, played over five days.\n",
      "* **One Day International (ODI):**  Each team bats for a limited number of overs (6 balls per over).\n",
      "* **Twenty20 (T20):**  The shortest form, each team bats for a maximum of 20 overs.\n",
      "\n",
      "**Key Terms:**\n",
      "\n",
      "* **Wicket:**  The three wooden posts at each end of the pitch.\n",
      "* **Over:**  A set of six balls bowled by a single bowler.\n",
      "* **Boundary:**  The edge of the field. If the ball is hit over the boundary, it's worth 4 or 6 runs.\n",
      "* **Run:**  A unit of scoring, achieved by running between the wickets.\n",
      "\n",
      "**Why People Love Cricket:**\n",
      "\n",
      "* **Strategy and Skill:** Cricket involves a lot of tactical thinking and diverse skills, from batting and bowling to fielding and captaincy.\n",
      "* **Excitement and Drama:** Matches can be incredibly tense and unpredictable, with dramatic twists and turns.\n",
      "* **Global Passion:** Cricket is hugely popular in many countries, particularly in South Asia, Australia, England, and the West Indies.\n",
      "\n",
      "\n",
      "Let me know if you have any other questions about cricket!\n",
      "\n"
     ]
    }
   ],
   "source": [
    "print(result.content)"
   ]
  },
  {
   "cell_type": "code",
   "execution_count": null,
   "id": "bde4960c",
   "metadata": {},
   "outputs": [],
   "source": [
    "from langchain_core.output_parsers import StrOutputParser"
   ]
  },
  {
   "cell_type": "code",
   "execution_count": null,
   "id": "4b159f7e",
   "metadata": {},
   "outputs": [],
   "source": [
    "parser = StrOutputParser()\n",
    "\n",
    "chain = prompt|llm_2|parser\n",
    "result=chain.invoke({\"query\":\"what is cricket?\"})"
   ]
  },
  {
   "cell_type": "code",
   "execution_count": 24,
   "id": "456c7f4c",
   "metadata": {},
   "outputs": [
    {
     "name": "stdout",
     "output_type": "stream",
     "text": [
      "Cricket is a bat-and-ball game played between two teams of eleven players each on a field at the centre of which is a 22-yard (20-metre) pitch with a wicket at each end. \n",
      "\n",
      "Here's a simplified explanation:\n",
      "\n",
      "**The basic idea:**\n",
      "\n",
      "* **Batting team:** Two batsmen try to score runs by hitting the ball bowled by the opposing team.\n",
      "* **Bowling team:** The bowlers try to get the batsmen out in various ways.\n",
      "* **Fielding team:** The fielders try to catch the ball and prevent the batsmen from scoring runs.\n",
      "\n",
      "**How to score runs:**\n",
      "\n",
      "* **Hitting the ball:** Batsmen run back and forth between the wickets to score runs.\n",
      "* **Boundaries:** Hitting the ball over the boundary line scores 4 or 6 runs.\n",
      "\n",
      "**How to get a batsman out:**\n",
      "\n",
      "* **Bowled:** The bowler hits the wicket with the ball.\n",
      "* **Caught:** A fielder catches the ball before it bounces.\n",
      "* **Leg Before Wicket (LBW):** The ball hits the batsman's leg in front of the wicket, and the umpire judges it would have hit the wickets.\n",
      "\n",
      "**Types of cricket matches:**\n",
      "\n",
      "* **Test matches:** The longest format, played over five days.\n",
      "* **One Day Internationals (ODIs):** Each team bats for a limited number of overs (usually 50).\n",
      "* **Twenty20 (T20):** The shortest format, each team bats for 20 overs.\n",
      "\n",
      "**Key aspects of the game:**\n",
      "\n",
      "* **Strategy:** Both teams need to make strategic decisions about batting, bowling, and fielding.\n",
      "* **Skill:** Cricket requires a high level of skill in batting, bowling, and fielding.\n",
      "* **Sportsmanship:** Cricket is known for its tradition of sportsmanship.\n",
      "\n",
      "\n",
      "This is just a brief overview of cricket. There are many more rules and nuances to the game. \n",
      "\n",
      "Let me know if you have any other questions!\n",
      "\n"
     ]
    }
   ],
   "source": [
    "print(result)"
   ]
  },
  {
   "cell_type": "markdown",
   "id": "978f99fb",
   "metadata": {},
   "source": [
    "### JSON Output Parser"
   ]
  },
  {
   "cell_type": "code",
   "execution_count": 14,
   "id": "3cbca718",
   "metadata": {},
   "outputs": [],
   "source": [
    "from langchain_core.output_parsers import JsonOutputParser\n",
    "from langchain_core.prompts import PromptTemplate"
   ]
  },
  {
   "cell_type": "code",
   "execution_count": 27,
   "id": "a414c444",
   "metadata": {},
   "outputs": [],
   "source": [
    "json_parser = JsonOutputParser()\n",
    "# json_parser.get_format_instructions()\n",
    "\n",
    "prompt = PromptTemplate(\n",
    "    template=\"You are a helpful assistent. Answer the user's query. {format_instruction}\\n\\n{query}\",\n",
    "    input_variables=[\"query\"],\n",
    "    partial_variables={\"format_instruction\": json_parser.get_format_instructions()},\n",
    ")"
   ]
  },
  {
   "cell_type": "code",
   "execution_count": 28,
   "id": "2b0ea379",
   "metadata": {},
   "outputs": [],
   "source": [
    "# prompt\n",
    "chain = prompt|llm_2|json_parser\n",
    "# chain = prompt|llm_2\n",
    "result=chain.invoke({\"query\":\"what is cricket?\"})"
   ]
  },
  {
   "cell_type": "code",
   "execution_count": 30,
   "id": "c5e35d79",
   "metadata": {},
   "outputs": [
    {
     "name": "stdout",
     "output_type": "stream",
     "text": [
      "{'description': 'Cricket is a bat-and-ball game played between two teams of eleven players each on a field at the centre of which is a 22-yard (20-metre) pitch.', 'objective': 'The objective of the game is to score more runs than the opposing team.', 'key_features': ['Batsmen score runs by hitting the ball and running between the wickets.', 'Bowlers try to get the batsmen out by hitting the wickets with the ball.', 'Fielders try to catch the ball and prevent runs.', 'The game can be played in various formats, including Test matches, One Day Internationals (ODIs), and Twenty20 (T20).', 'Cricket is a popular sport in many countries, particularly in the Commonwealth.'], 'history': 'Cricket originated in England in the 16th century and has since become a global sport.'}\n"
     ]
    }
   ],
   "source": [
    "print(result)"
   ]
  },
  {
   "cell_type": "code",
   "execution_count": 38,
   "id": "4cb45e8a",
   "metadata": {},
   "outputs": [],
   "source": [
    "## From Langchain documentation\n",
    "\n",
    "# Define your desired data structure.\n",
    "class Joke(BaseModel):\n",
    "    setup: str = Field(description=\"question to set up a joke\")\n",
    "    punchline: str = Field(description=\"answer to resolve the joke\")\n",
    "\n",
    "\n",
    "# And a query intented to prompt a language model to populate the data structure.\n",
    "joke_query = \"Tell me a joke on cycle.\"\n",
    "\n",
    "# Set up a parser + inject instructions into the prompt template.\n",
    "parser = JsonOutputParser(pydantic_object=Joke)\n",
    "\n",
    "prompt = PromptTemplate(\n",
    "    template=\"Answer the user query.\\n{format_instructions}\\n{query}\\n\",\n",
    "    input_variables=[\"query\"],\n",
    "    partial_variables={\"format_instructions\": parser.get_format_instructions()},\n",
    ")\n",
    "\n",
    "chain = prompt | llm_2 | parser\n",
    "\n",
    "result = chain.invoke({\"query\": joke_query})"
   ]
  },
  {
   "cell_type": "code",
   "execution_count": 42,
   "id": "f05b3eee",
   "metadata": {},
   "outputs": [
    {
     "name": "stdout",
     "output_type": "stream",
     "text": [
      "input_variables=['query'] input_types={} partial_variables={'format_instructions': 'The output should be formatted as a JSON instance that conforms to the JSON schema below.\\n\\nAs an example, for the schema {\"properties\": {\"foo\": {\"title\": \"Foo\", \"description\": \"a list of strings\", \"type\": \"array\", \"items\": {\"type\": \"string\"}}}, \"required\": [\"foo\"]}\\nthe object {\"foo\": [\"bar\", \"baz\"]} is a well-formatted instance of the schema. The object {\"properties\": {\"foo\": [\"bar\", \"baz\"]}} is not well-formatted.\\n\\nHere is the output schema:\\n```\\n{\"properties\": {\"setup\": {\"description\": \"question to set up a joke\", \"title\": \"Setup\", \"type\": \"string\"}, \"punchline\": {\"description\": \"answer to resolve the joke\", \"title\": \"Punchline\", \"type\": \"string\"}}, \"required\": [\"setup\", \"punchline\"]}\\n```'} template='Answer the user query.\\n{format_instructions}\\n{query}\\n'\n"
     ]
    }
   ],
   "source": [
    "print(prompt)"
   ]
  },
  {
   "cell_type": "code",
   "execution_count": 41,
   "id": "6acdf69e",
   "metadata": {},
   "outputs": [
    {
     "name": "stdout",
     "output_type": "stream",
     "text": [
      "<class 'dict'>\n"
     ]
    },
    {
     "data": {
      "text/plain": [
       "{'setup': 'Why did the bicycle fall over?',\n",
       " 'punchline': 'Because it was two tired!'}"
      ]
     },
     "execution_count": 41,
     "metadata": {},
     "output_type": "execute_result"
    }
   ],
   "source": [
    "print(type(result))\n",
    "result"
   ]
  },
  {
   "cell_type": "code",
   "execution_count": 47,
   "id": "aebc4486",
   "metadata": {},
   "outputs": [],
   "source": [
    "# without pydantic\n",
    "\n",
    "## From Langchain documentation\n",
    "\n",
    "\n",
    "# And a query intented to prompt a language model to populate the data structure.\n",
    "joke_query = \"Tell me a joke on cycle.\"\n",
    "\n",
    "# Set up a parser + inject instructions into the prompt template.\n",
    "parser = JsonOutputParser()\n",
    "\n",
    "prompt = PromptTemplate(\n",
    "    template=\"Answer the user query.\\n{format_instructions}\\n{query}\\n\",\n",
    "    input_variables=[\"query\"],\n",
    "    partial_variables={\"format_instructions\": parser.get_format_instructions()},\n",
    ")\n",
    "\n",
    "# chain = prompt | llm_2 | parser\n",
    "chain = prompt | llm_2 \n",
    "\n",
    "result = chain.invoke({\"query\": joke_query})"
   ]
  },
  {
   "cell_type": "code",
   "execution_count": 51,
   "id": "721f6db4",
   "metadata": {},
   "outputs": [
    {
     "name": "stdout",
     "output_type": "stream",
     "text": [
      "<class 'str'>\n",
      "```json\n",
      "{\n",
      "  \"joke\": \"Why did the bicycle fall over? Because it was two tired!\"\n",
      "}\n",
      "```\n"
     ]
    }
   ],
   "source": [
    "print(type(result.content))\n",
    "print(result.content)"
   ]
  },
  {
   "cell_type": "markdown",
   "id": "7049e885",
   "metadata": {},
   "source": [
    "### XML Output Parser"
   ]
  },
  {
   "cell_type": "code",
   "execution_count": 21,
   "id": "fa1f7dc3",
   "metadata": {},
   "outputs": [],
   "source": [
    "from langchain_core.output_parsers import XMLOutputParser\n",
    "from langchain_core.prompts import PromptTemplate"
   ]
  },
  {
   "cell_type": "code",
   "execution_count": 22,
   "id": "8b0b80fd",
   "metadata": {},
   "outputs": [],
   "source": [
    "xml_parser = XMLOutputParser()\n",
    "\n",
    "prompt = PromptTemplate(\n",
    "    template=\"Respond to user query with XML response.\\n{format_instruction}\\n\\n{query}\",\n",
    "    input_variables=[\"query\"],\n",
    "    partial_variables={\"format_instruction\":xml_parser.get_format_instructions()}\n",
    ")"
   ]
  },
  {
   "cell_type": "code",
   "execution_count": 23,
   "id": "c4e14bc4",
   "metadata": {},
   "outputs": [],
   "source": [
    "# prompt"
   ]
  },
  {
   "cell_type": "code",
   "execution_count": 24,
   "id": "d63e81ac",
   "metadata": {},
   "outputs": [],
   "source": [
    "# prompt\n",
    "chain = prompt|llm_2\n",
    "result=chain.invoke({\"query\":\"what is DISCOM?\"})"
   ]
  },
  {
   "cell_type": "code",
   "execution_count": 25,
   "id": "45c9623a",
   "metadata": {},
   "outputs": [
    {
     "name": "stdout",
     "output_type": "stream",
     "text": [
      "```xml\n",
      "<response>\n",
      "  <meaning>\n",
      "    DISCOM stands for **Distribution Company**. \n",
      "  </meaning>\n",
      "  <description>\n",
      "    It is a company responsible for distributing electricity from the transmission network to consumers. \n",
      "  </description>\n",
      "</response>\n",
      "```\n"
     ]
    }
   ],
   "source": [
    "print(result.content)"
   ]
  },
  {
   "cell_type": "markdown",
   "id": "a724d65c",
   "metadata": {},
   "source": [
    "### Assignment"
   ]
  },
  {
   "cell_type": "code",
   "execution_count": 69,
   "id": "d292b783",
   "metadata": {},
   "outputs": [],
   "source": [
    "from pydantic import Field, BaseModel\n",
    "from langchain_groq.chat_models import ChatGroq\n",
    "from langchain_core.prompts import ChatPromptTemplate\n",
    "from langchain_core.output_parsers import JsonOutputParser"
   ]
  },
  {
   "cell_type": "code",
   "execution_count": 106,
   "id": "1921df21",
   "metadata": {},
   "outputs": [],
   "source": [
    "class Product(BaseModel):\n",
    "    product_name: str=Field(description=\"name of the product\")\n",
    "    product_details: str=Field(description=\"specifications and salient features of the product\")\n",
    "    tentative_price: float=Field(description=\"price of the product in indian ruppess i.e. INR\")"
   ]
  },
  {
   "cell_type": "code",
   "execution_count": 107,
   "id": "c0b1e079",
   "metadata": {},
   "outputs": [],
   "source": [
    "llm_2 = ChatGroq(model=\"gemma2-9b-it\", max_tokens=1000, temperature=0.7)"
   ]
  },
  {
   "cell_type": "code",
   "execution_count": 108,
   "id": "805af85d",
   "metadata": {},
   "outputs": [],
   "source": [
    "output_parser = JsonOutputParser(pydantic_object=Product)"
   ]
  },
  {
   "cell_type": "code",
   "execution_count": 112,
   "id": "fffcf066",
   "metadata": {},
   "outputs": [
    {
     "data": {
      "text/plain": [
       "ChatPromptTemplate(input_variables=['query'], input_types={}, partial_variables={'format_instructions': 'The output should be formatted as a JSON instance that conforms to the JSON schema below.\\n\\nAs an example, for the schema {\"properties\": {\"foo\": {\"title\": \"Foo\", \"description\": \"a list of strings\", \"type\": \"array\", \"items\": {\"type\": \"string\"}}}, \"required\": [\"foo\"]}\\nthe object {\"foo\": [\"bar\", \"baz\"]} is a well-formatted instance of the schema. The object {\"properties\": {\"foo\": [\"bar\", \"baz\"]}} is not well-formatted.\\n\\nHere is the output schema:\\n```\\n{\"properties\": {\"product_name\": {\"description\": \"name of the product\", \"title\": \"Product Name\", \"type\": \"string\"}, \"product_details\": {\"description\": \"specifications and salient features of the product\", \"title\": \"Product Details\", \"type\": \"string\"}, \"tentative_price\": {\"description\": \"price of the product in indian ruppess i.e. INR\", \"title\": \"Tentative Price\", \"type\": \"number\"}}, \"required\": [\"product_name\", \"product_details\", \"tentative_price\"]}\\n```'}, messages=[SystemMessagePromptTemplate(prompt=PromptTemplate(input_variables=['format_instructions'], input_types={}, partial_variables={}, template=\"You are an helpful assistant. Answer the user's query. {format_instructions}\"), additional_kwargs={}), HumanMessagePromptTemplate(prompt=PromptTemplate(input_variables=['query'], input_types={}, partial_variables={}, template='{query}'), additional_kwargs={})])"
      ]
     },
     "execution_count": 112,
     "metadata": {},
     "output_type": "execute_result"
    }
   ],
   "source": [
    "prompt = ChatPromptTemplate(\n",
    "    [\n",
    "        (\"system\",\"You are an helpful assistant. Answer the user's query. {format_instructions}\"),\n",
    "        (\"human\", \"{query}\"),\n",
    "    ],\n",
    "    input_variables=[\"query\"],\n",
    "    partial_variables={\"format_instructions\":output_parser.get_format_instructions()}\n",
    ")\n",
    "\n",
    "prompt"
   ]
  },
  {
   "cell_type": "code",
   "execution_count": 110,
   "id": "58095163",
   "metadata": {},
   "outputs": [],
   "source": [
    "chain = prompt|llm_2|output_parser\n",
    "result=chain.invoke({\"query\":\"how is samsung galaxy phones?\"})"
   ]
  },
  {
   "cell_type": "code",
   "execution_count": 111,
   "id": "0fba237f",
   "metadata": {},
   "outputs": [
    {
     "name": "stdout",
     "output_type": "stream",
     "text": [
      "{'product_name': 'Samsung Galaxy Phones', 'product_details': 'High-performance smartphones with advanced camera systems, innovative displays, and powerful processors.', 'tentative_price': 40000}\n"
     ]
    }
   ],
   "source": [
    "print(result)"
   ]
  },
  {
   "cell_type": "code",
   "execution_count": null,
   "id": "5f0ff72e",
   "metadata": {},
   "outputs": [],
   "source": []
  },
  {
   "cell_type": "code",
   "execution_count": null,
   "id": "ac2e1bdd",
   "metadata": {},
   "outputs": [],
   "source": []
  },
  {
   "cell_type": "code",
   "execution_count": null,
   "id": "a1acd870",
   "metadata": {},
   "outputs": [],
   "source": []
  }
 ],
 "metadata": {
  "kernelspec": {
   "display_name": ".agentic_1",
   "language": "python",
   "name": "python3"
  },
  "language_info": {
   "codemirror_mode": {
    "name": "ipython",
    "version": 3
   },
   "file_extension": ".py",
   "mimetype": "text/x-python",
   "name": "python",
   "nbconvert_exporter": "python",
   "pygments_lexer": "ipython3",
   "version": "3.11.2"
  }
 },
 "nbformat": 4,
 "nbformat_minor": 5
}
