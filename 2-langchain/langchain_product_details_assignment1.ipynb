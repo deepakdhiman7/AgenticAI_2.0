{
 "cells": [
  {
   "cell_type": "markdown",
   "id": "f0ac4820",
   "metadata": {},
   "source": [
    "# Assignment 1 - Product Output with Pydantic Structure Output"
   ]
  },
  {
   "cell_type": "code",
   "execution_count": 5,
   "id": "f042b4a1",
   "metadata": {},
   "outputs": [],
   "source": [
    "import os\n",
    "from dotenv import load_dotenv\n",
    "from pydantic import Field, BaseModel\n",
    "from langchain_groq.chat_models import ChatGroq\n",
    "from langchain_core.prompts import ChatPromptTemplate\n",
    "from langchain_core.output_parsers import JsonOutputParser"
   ]
  },
  {
   "cell_type": "code",
   "execution_count": 8,
   "id": "bee3a363",
   "metadata": {},
   "outputs": [],
   "source": [
    "load_dotenv()\n",
    "\n",
    "# print(os.getenv(\"OPENAI_API_KEY\"))\n",
    "os.environ[\"OPENAI_API_KEY\"]=os.getenv(\"OPENAI_API_KEY\")\n",
    "os.environ[\"GROQ_API_KEY\"]=os.getenv(\"GROQ_API_KEY\")\n",
    "os.environ[\"LANGCHAIN_PROJECT\"]=os.getenv(\"LANGCHAIN_PROJECT\")\n",
    "os.environ[\"LANGCHAIN_API_KEY\"]=os.getenv(\"LANGCHAIN_API_KEY\")\n",
    "os.environ[\"LANGCHAIN_TRACING_V2\"]=\"true\""
   ]
  },
  {
   "cell_type": "code",
   "execution_count": 9,
   "id": "f29daab3",
   "metadata": {},
   "outputs": [],
   "source": [
    "class Product(BaseModel):\n",
    "    product_name: str=Field(description=\"name of the product\")\n",
    "    product_details: str=Field(description=\"specifications and salient features of the product\")\n",
    "    tentative_price: float=Field(description=\"price of the product in indian ruppess i.e. INR\")"
   ]
  },
  {
   "cell_type": "code",
   "execution_count": 10,
   "id": "3f075a6e",
   "metadata": {},
   "outputs": [],
   "source": [
    "output_parser = JsonOutputParser(pydantic_object=Product)"
   ]
  },
  {
   "cell_type": "code",
   "execution_count": 11,
   "id": "31d1d332",
   "metadata": {},
   "outputs": [],
   "source": [
    "llm_2 = ChatGroq(model=\"gemma2-9b-it\", max_tokens=1000, temperature=0.7)"
   ]
  },
  {
   "cell_type": "code",
   "execution_count": 12,
   "id": "59a0047a",
   "metadata": {},
   "outputs": [
    {
     "data": {
      "text/plain": [
       "ChatPromptTemplate(input_variables=['query'], input_types={}, partial_variables={'format_instructions': 'The output should be formatted as a JSON instance that conforms to the JSON schema below.\\n\\nAs an example, for the schema {\"properties\": {\"foo\": {\"title\": \"Foo\", \"description\": \"a list of strings\", \"type\": \"array\", \"items\": {\"type\": \"string\"}}}, \"required\": [\"foo\"]}\\nthe object {\"foo\": [\"bar\", \"baz\"]} is a well-formatted instance of the schema. The object {\"properties\": {\"foo\": [\"bar\", \"baz\"]}} is not well-formatted.\\n\\nHere is the output schema:\\n```\\n{\"properties\": {\"product_name\": {\"description\": \"name of the product\", \"title\": \"Product Name\", \"type\": \"string\"}, \"product_details\": {\"description\": \"specifications and salient features of the product\", \"title\": \"Product Details\", \"type\": \"string\"}, \"tentative_price\": {\"description\": \"price of the product in indian ruppess i.e. INR\", \"title\": \"Tentative Price\", \"type\": \"number\"}}, \"required\": [\"product_name\", \"product_details\", \"tentative_price\"]}\\n```'}, messages=[SystemMessagePromptTemplate(prompt=PromptTemplate(input_variables=['format_instructions'], input_types={}, partial_variables={}, template=\"You are an helpful assistant. Answer the user's query. {format_instructions}\"), additional_kwargs={}), HumanMessagePromptTemplate(prompt=PromptTemplate(input_variables=['query'], input_types={}, partial_variables={}, template='{query}'), additional_kwargs={})])"
      ]
     },
     "execution_count": 12,
     "metadata": {},
     "output_type": "execute_result"
    }
   ],
   "source": [
    "prompt = ChatPromptTemplate(\n",
    "    [\n",
    "        (\"system\",\"You are an helpful assistant. Answer the user's query. {format_instructions}\"),\n",
    "        (\"human\", \"{query}\"),\n",
    "    ],\n",
    "    input_variables=[\"query\"],\n",
    "    partial_variables={\"format_instructions\":output_parser.get_format_instructions()}\n",
    ")\n",
    "\n",
    "prompt"
   ]
  },
  {
   "cell_type": "code",
   "execution_count": 13,
   "id": "6f7e8605",
   "metadata": {},
   "outputs": [],
   "source": [
    "chain = prompt|llm_2|output_parser\n",
    "result=chain.invoke({\"query\":\"how is samsung galaxy phones?\"})"
   ]
  },
  {
   "cell_type": "code",
   "execution_count": 15,
   "id": "03e8d061",
   "metadata": {},
   "outputs": [
    {
     "data": {
      "text/plain": [
       "{'product_name': 'Samsung Galaxy Phones',\n",
       " 'product_details': 'High-performance smartphones with advanced camera systems, sleek designs, and powerful processors.',\n",
       " 'tentative_price': 30000}"
      ]
     },
     "execution_count": 15,
     "metadata": {},
     "output_type": "execute_result"
    }
   ],
   "source": [
    "result"
   ]
  },
  {
   "cell_type": "code",
   "execution_count": null,
   "id": "e0594472",
   "metadata": {},
   "outputs": [],
   "source": []
  }
 ],
 "metadata": {
  "kernelspec": {
   "display_name": ".agentic_1",
   "language": "python",
   "name": "python3"
  },
  "language_info": {
   "codemirror_mode": {
    "name": "ipython",
    "version": 3
   },
   "file_extension": ".py",
   "mimetype": "text/x-python",
   "name": "python",
   "nbconvert_exporter": "python",
   "pygments_lexer": "ipython3",
   "version": "3.11.2"
  }
 },
 "nbformat": 4,
 "nbformat_minor": 5
}
